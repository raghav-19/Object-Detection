{
  "nbformat": 4,
  "nbformat_minor": 0,
  "metadata": {
    "colab": {
      "name": "detect_white_box.ipynb",
      "provenance": [],
      "collapsed_sections": []
    },
    "kernelspec": {
      "name": "python3",
      "display_name": "Python 3"
    },
    "language_info": {
      "name": "python"
    },
    "accelerator": "GPU"
  },
  "cells": [
    {
      "cell_type": "markdown",
      "source": [
        "##Our Task is to predict the coordinates of white boxes that appear against a black background"
      ],
      "metadata": {
        "id": "Y2hlcLBO6xgR"
      }
    },
    {
      "cell_type": "code",
      "execution_count": 1,
      "metadata": {
        "id": "Q9qa-di7WoAS"
      },
      "outputs": [],
      "source": [
        "import pandas as pd\n",
        "import numpy as np\n",
        "import matplotlib.pyplot as plt\n",
        "from matplotlib.patches import Rectangle"
      ]
    },
    {
      "cell_type": "code",
      "source": [
        "import tensorflow as tf\n",
        "from tensorflow.keras.applications.vgg16 import VGG16, preprocess_input\n",
        "from tensorflow.keras.layers import Input, Dense, Flatten\n",
        "from tensorflow.keras import Model\n",
        "from tensorflow.keras.optimizers import Adam"
      ],
      "metadata": {
        "id": "IO94hHhXWy7X"
      },
      "execution_count": 2,
      "outputs": []
    },
    {
      "cell_type": "code",
      "source": [
        "#Created and loaded model with input image of size (100,100,3) \n",
        "dim = 100 #pixels in image\n",
        "cutoff = 80 #top-left coordinate pixel cutoff\n",
        "image_size = (dim,dim,3)\n",
        "vgg = VGG16(include_top=False, weights='imagenet', input_shape=image_size)\n",
        "x = Flatten()(vgg.output)\n",
        "x = Dense(4, activation='sigmoid')(x)\n",
        "model = tf.keras.Model(inputs=vgg.input, outputs=x)\n",
        "model.summary()"
      ],
      "metadata": {
        "colab": {
          "base_uri": "https://localhost:8080/"
        },
        "id": "yIAIKilgXtTW",
        "outputId": "08c8b1f3-ca0f-406b-b63b-eb1d70127040"
      },
      "execution_count": 3,
      "outputs": [
        {
          "output_type": "stream",
          "name": "stdout",
          "text": [
            "Downloading data from https://storage.googleapis.com/tensorflow/keras-applications/vgg16/vgg16_weights_tf_dim_ordering_tf_kernels_notop.h5\n",
            "58892288/58889256 [==============================] - 0s 0us/step\n",
            "58900480/58889256 [==============================] - 0s 0us/step\n",
            "Model: \"model\"\n",
            "_________________________________________________________________\n",
            " Layer (type)                Output Shape              Param #   \n",
            "=================================================================\n",
            " input_1 (InputLayer)        [(None, 100, 100, 3)]     0         \n",
            "                                                                 \n",
            " block1_conv1 (Conv2D)       (None, 100, 100, 64)      1792      \n",
            "                                                                 \n",
            " block1_conv2 (Conv2D)       (None, 100, 100, 64)      36928     \n",
            "                                                                 \n",
            " block1_pool (MaxPooling2D)  (None, 50, 50, 64)        0         \n",
            "                                                                 \n",
            " block2_conv1 (Conv2D)       (None, 50, 50, 128)       73856     \n",
            "                                                                 \n",
            " block2_conv2 (Conv2D)       (None, 50, 50, 128)       147584    \n",
            "                                                                 \n",
            " block2_pool (MaxPooling2D)  (None, 25, 25, 128)       0         \n",
            "                                                                 \n",
            " block3_conv1 (Conv2D)       (None, 25, 25, 256)       295168    \n",
            "                                                                 \n",
            " block3_conv2 (Conv2D)       (None, 25, 25, 256)       590080    \n",
            "                                                                 \n",
            " block3_conv3 (Conv2D)       (None, 25, 25, 256)       590080    \n",
            "                                                                 \n",
            " block3_pool (MaxPooling2D)  (None, 12, 12, 256)       0         \n",
            "                                                                 \n",
            " block4_conv1 (Conv2D)       (None, 12, 12, 512)       1180160   \n",
            "                                                                 \n",
            " block4_conv2 (Conv2D)       (None, 12, 12, 512)       2359808   \n",
            "                                                                 \n",
            " block4_conv3 (Conv2D)       (None, 12, 12, 512)       2359808   \n",
            "                                                                 \n",
            " block4_pool (MaxPooling2D)  (None, 6, 6, 512)         0         \n",
            "                                                                 \n",
            " block5_conv1 (Conv2D)       (None, 6, 6, 512)         2359808   \n",
            "                                                                 \n",
            " block5_conv2 (Conv2D)       (None, 6, 6, 512)         2359808   \n",
            "                                                                 \n",
            " block5_conv3 (Conv2D)       (None, 6, 6, 512)         2359808   \n",
            "                                                                 \n",
            " block5_pool (MaxPooling2D)  (None, 3, 3, 512)         0         \n",
            "                                                                 \n",
            " flatten (Flatten)           (None, 4608)              0         \n",
            "                                                                 \n",
            " dense (Dense)               (None, 4)                 18436     \n",
            "                                                                 \n",
            "=================================================================\n",
            "Total params: 14,733,124\n",
            "Trainable params: 14,733,124\n",
            "Non-trainable params: 0\n",
            "_________________________________________________________________\n"
          ]
        }
      ]
    },
    {
      "cell_type": "code",
      "source": [
        "def get_image():\n",
        "    x = np.zeros(image_size, dtype=float)  #image pixel value\n",
        "    y = np.zeros(4, dtype=float)  #top-left coordinate and height and width, (row,col,height,width) within range [0,1]\n",
        "    row0 = np.random.randint(0, cutoff)\n",
        "    row1 = np.random.randint(row0+1, dim)\n",
        "    col0 = np.random.randint(0, cutoff)\n",
        "    col1 = np.random.randint(col0+1, dim)\n",
        "    x[row0:row1,col0:col1,:] = 255 #creating white box\n",
        "    y[0], y[1], y[2], y[3] = row0, col0, row1-row0, col1-col0\n",
        "    return x, y"
      ],
      "metadata": {
        "id": "noMrA3gG68dQ"
      },
      "execution_count": 4,
      "outputs": []
    },
    {
      "cell_type": "code",
      "source": [
        "num_batches = 50\n",
        "batch_size = 64\n",
        "def my_generator():\n",
        "    while True:\n",
        "        for _ in range(num_batches):\n",
        "            X = np.zeros((batch_size,) + image_size, dtype=float)\n",
        "            Y = np.zeros((batch_size, 4), dtype=float)\n",
        "            for i in range(batch_size):\n",
        "                X[i],Y[i] = get_image()\n",
        "            yield X/255.,Y/dim"
      ],
      "metadata": {
        "id": "V0sLl6t-89r6"
      },
      "execution_count": 5,
      "outputs": []
    },
    {
      "cell_type": "code",
      "source": [
        "model.compile(Adam(learning_rate=0.0003), loss='binary_crossentropy', metrics='mse')\n",
        "history = model.fit(my_generator(), epochs=10, steps_per_epoch=num_batches)"
      ],
      "metadata": {
        "colab": {
          "base_uri": "https://localhost:8080/"
        },
        "id": "2mqMYECkbafD",
        "outputId": "d6ade843-d94f-4f0f-bcf6-13c298b9f815"
      },
      "execution_count": 6,
      "outputs": [
        {
          "output_type": "stream",
          "name": "stdout",
          "text": [
            "Epoch 1/10\n",
            "50/50 [==============================] - 24s 181ms/step - loss: 0.5520 - mse: 0.0128\n",
            "Epoch 2/10\n",
            "50/50 [==============================] - 9s 182ms/step - loss: 0.5227 - mse: 4.7654e-04\n",
            "Epoch 3/10\n",
            "50/50 [==============================] - 9s 184ms/step - loss: 0.5214 - mse: 2.0770e-04\n",
            "Epoch 4/10\n",
            "50/50 [==============================] - 9s 185ms/step - loss: 0.5199 - mse: 1.7163e-04\n",
            "Epoch 5/10\n",
            "50/50 [==============================] - 9s 188ms/step - loss: 0.5207 - mse: 1.5288e-04\n",
            "Epoch 6/10\n",
            "50/50 [==============================] - 9s 189ms/step - loss: 0.5215 - mse: 1.1687e-04\n",
            "Epoch 7/10\n",
            "50/50 [==============================] - 10s 192ms/step - loss: 0.5191 - mse: 1.6922e-04\n",
            "Epoch 8/10\n",
            "50/50 [==============================] - 10s 195ms/step - loss: 0.5212 - mse: 1.6569e-04\n",
            "Epoch 9/10\n",
            "50/50 [==============================] - 10s 197ms/step - loss: 0.5195 - mse: 2.4372e-04\n",
            "Epoch 10/10\n",
            "50/50 [==============================] - 10s 199ms/step - loss: 0.5198 - mse: 8.3967e-05\n"
          ]
        }
      ]
    },
    {
      "cell_type": "code",
      "source": [
        "def make_single_prediction():\n",
        "    x,y = get_image()\n",
        "\n",
        "    #Prediction of white box coordinates by model\n",
        "    y_pred = model.predict(np.expand_dims(x/255., axis=0))[0]\n",
        "    y_pred = np.array(np.round(y_pred*dim), dtype=int)\n",
        "\n",
        "    #Plot predicted white box on image\n",
        "    fig, ax = plt.subplots(1)\n",
        "    ax.imshow(x/255.)\n",
        "    rect = Rectangle((y_pred[1], y_pred[0]), y_pred[3], y_pred[2], edgecolor='r', facecolor='none', linewidth=1)\n",
        "    ax.add_patch(rect)\n",
        "    plt.show()\n",
        "\n",
        "    #Computing Intersection over union\n",
        "    y[2], y_pred[2] = y[0]+y[2], y_pred[0]+y_pred[2]\n",
        "    y[3], y_pred[3] = y[1]+y[3], y_pred[1]+y_pred[3]\n",
        "    common = max(0,min(y[2],y_pred[2])-max(y[0],y_pred[0]))*max(0,min(y[3],y_pred[3])-max(y[1],y_pred[1]))\n",
        "    total_area = (y_pred[2]-y_pred[0])*(y_pred[3]-y_pred[1]) + (y[2]-y[0])*(y[3]-y[1]) - common\n",
        "    iou = common/total_area\n",
        "    print(f'Intersection over union : {round(iou,3)}')"
      ],
      "metadata": {
        "id": "ztOv5-_aIzxn"
      },
      "execution_count": 7,
      "outputs": []
    },
    {
      "cell_type": "code",
      "source": [
        "make_single_prediction()"
      ],
      "metadata": {
        "id": "gEmm2-xLfgGB",
        "colab": {
          "base_uri": "https://localhost:8080/",
          "height": 285
        },
        "outputId": "f4e17617-f045-4bad-d417-52093478580f"
      },
      "execution_count": 11,
      "outputs": [
        {
          "output_type": "display_data",
          "data": {
            "text/plain": [
              "<Figure size 432x288 with 1 Axes>"
            ],
            "image/png": "[encoded data removed]"
          },
          "metadata": {
            "needs_background": "light"
          }
        },
        {
          "output_type": "stream",
          "name": "stdout",
          "text": [
            "Intersection over union : 0.968\n"
          ]
        }
      ]
    },
    {
      "cell_type": "code",
      "source": [
        "def batch_prediction():\n",
        "    #Generating batch of images\n",
        "    X = np.zeros((batch_size,) + image_size, dtype=float)\n",
        "    Y = np.zeros((batch_size, 4), dtype=float)\n",
        "    for i in range(batch_size):\n",
        "        X[i],Y[i] = get_image()\n",
        "    y_pred = model.predict(X/255.)\n",
        "    y_pred = np.round(y_pred*dim)\n",
        "\n",
        "    #Computing intersection over union over batch of images\n",
        "    height = np.maximum(np.minimum(Y[:,0]+Y[:,2],y_pred[:,0]+y_pred[:,2])-np.maximum(Y[:,0],y_pred[:,0]),0)\n",
        "    width = np.maximum(np.minimum(Y[:,1]+Y[:,3],y_pred[:,1]+y_pred[:,3])-np.maximum(Y[:,1],y_pred[:,1]),0)\n",
        "    common = height*width\n",
        "    total = Y[:,2]*Y[:,3] + y_pred[:,2]*y_pred[:,3] - common\n",
        "    iou = common/total\n",
        "    return iou"
      ],
      "metadata": {
        "id": "-gXdPscMiJos"
      },
      "execution_count": 9,
      "outputs": []
    },
    {
      "cell_type": "code",
      "source": [
        "#Distribution of iou on single batch prediction\n",
        "iou = batch_prediction()\n",
        "plt.hist(iou, bins=10, range=(0,1))\n",
        "print(f'Mean of Intersection over union over 64 batch images : {round(iou.mean(),3)}')\n",
        "print(f'Standard deviation of Intersection over union over 64 batch images : {round(iou.std(),3)}')"
      ],
      "metadata": {
        "colab": {
          "base_uri": "https://localhost:8080/",
          "height": 300
        },
        "id": "9nvBT1b2oJYT",
        "outputId": "086bce10-ea85-42e7-be1c-4d1795be7500"
      },
      "execution_count": 12,
      "outputs": [
        {
          "output_type": "stream",
          "name": "stdout",
          "text": [
            "Mean of Intersection over union over 64 batch images : 0.833\n",
            "Standard deviation of Intersection over union over 64 batch images : 0.221\n"
          ]
        },
        {
          "output_type": "display_data",
          "data": {
            "text/plain": [
              "<Figure size 432x288 with 1 Axes>"
            ],
            "image/png": "[encoded data removed]"
          },
          "metadata": {
            "needs_background": "light"
          }
        }
      ]
    },
    {
      "cell_type": "code",
      "source": [
        "#Plotting how generalize our model is\n",
        "iou_mean, iou_std = [],[]\n",
        "for i in range(num_batches):\n",
        "    iou = batch_prediction()\n",
        "    iou_mean.append(iou.mean())\n",
        "    iou_std.append(iou.std())\n",
        "plt.xlabel('Mean of IOU')\n",
        "plt.ylabel('Standard deviation of IOU')\n",
        "plt.scatter(iou_mean, iou_std)"
      ],
      "metadata": {
        "colab": {
          "base_uri": "https://localhost:8080/",
          "height": 297
        },
        "id": "2mGqpYoMp4kj",
        "outputId": "2ffcd652-92e6-4af7-bec9-5867f1da25f3"
      },
      "execution_count": 21,
      "outputs": [
        {
          "output_type": "execute_result",
          "data": {
            "text/plain": [
              "<matplotlib.collections.PathCollection at 0x7efb7aa16910>"
            ]
          },
          "metadata": {},
          "execution_count": 21
        },
        {
          "output_type": "display_data",
          "data": {
            "text/plain": [
              "<Figure size 432x288 with 1 Axes>"
            ],
            "image/png": "[encoded data removed]"
          },
          "metadata": {
            "needs_background": "light"
          }
        }
      ]
    }
  ]
}